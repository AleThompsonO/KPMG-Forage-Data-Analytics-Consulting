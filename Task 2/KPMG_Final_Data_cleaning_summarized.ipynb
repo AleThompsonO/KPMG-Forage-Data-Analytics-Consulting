{
  "nbformat": 4,
  "nbformat_minor": 0,
  "metadata": {
    "colab": {
      "provenance": []
    },
    "kernelspec": {
      "name": "python3",
      "display_name": "Python 3"
    },
    "language_info": {
      "name": "python"
    }
  },
  "cells": [
    {
      "cell_type": "code",
      "execution_count": null,
      "metadata": {
        "id": "D25ZYKR0trHz"
      },
      "outputs": [],
      "source": [
        "import pandas as pd"
      ]
    },
    {
      "cell_type": "code",
      "source": [
        "# We import our main data\n",
        "df = pd.ExcelFile(\"/content/KPMG_VI_New_raw_data_update_final.xlsx\")\n",
        "# Extract the sheets and store them in separate DataFrames\n",
        "transactions_df = pd.read_excel(df, 'Transactions', header=1)\n",
        "customer_demographic_df = pd.read_excel(df, 'CustomerDemographic', header=1)\n",
        "customer_address_df = pd.read_excel(df, 'CustomerAddress', header=1)"
      ],
      "metadata": {
        "colab": {
          "base_uri": "https://localhost:8080/"
        },
        "id": "HJQnzcB4tz8A",
        "outputId": "a563db2f-ee35-42d1-bfbd-8ec3ee016c55"
      },
      "execution_count": null,
      "outputs": [
        {
          "output_type": "stream",
          "name": "stderr",
          "text": [
            "<ipython-input-2-3258392e87c7>:5: FutureWarning: Inferring datetime64[ns] from data containing strings is deprecated and will be removed in a future version. To retain the old behavior explicitly pass Series(data, dtype=datetime64[ns])\n",
            "  customer_demographic_df = pd.read_excel(df, 'CustomerDemographic', header=1)\n"
          ]
        }
      ]
    },
    {
      "cell_type": "code",
      "source": [
        "new_customer_list_df = pd.read_excel(df, 'NewCustomerList', header=1)"
      ],
      "metadata": {
        "id": "IDJIFnSVTopu"
      },
      "execution_count": null,
      "outputs": []
    },
    {
      "cell_type": "code",
      "source": [
        "# We join the data sets using the column 'customer_id'.\n",
        "merged_df = pd.merge(transactions_df, customer_demographic_df, on='customer_id')\n",
        "merged_df = pd.merge(merged_df, customer_address_df, on='customer_id')"
      ],
      "metadata": {
        "id": "ypUWPHl9t3b6"
      },
      "execution_count": null,
      "outputs": []
    },
    {
      "cell_type": "code",
      "source": [
        "merged_df.info()"
      ],
      "metadata": {
        "colab": {
          "base_uri": "https://localhost:8080/"
        },
        "id": "ixxZHe-Gt_z8",
        "outputId": "6200c391-efab-4bb6-f71d-8bca40064075"
      },
      "execution_count": null,
      "outputs": [
        {
          "output_type": "stream",
          "name": "stdout",
          "text": [
            "<class 'pandas.core.frame.DataFrame'>\n",
            "Int64Index: 19968 entries, 0 to 19967\n",
            "Data columns (total 30 columns):\n",
            " #   Column                               Non-Null Count  Dtype         \n",
            "---  ------                               --------------  -----         \n",
            " 0   transaction_id                       19968 non-null  int64         \n",
            " 1   product_id                           19968 non-null  int64         \n",
            " 2   customer_id                          19968 non-null  int64         \n",
            " 3   transaction_date                     19968 non-null  datetime64[ns]\n",
            " 4   online_order                         19609 non-null  float64       \n",
            " 5   order_status                         19968 non-null  object        \n",
            " 6   brand                                19773 non-null  object        \n",
            " 7   product_line                         19773 non-null  object        \n",
            " 8   product_class                        19773 non-null  object        \n",
            " 9   product_size                         19773 non-null  object        \n",
            " 10  list_price                           19968 non-null  float64       \n",
            " 11  standard_cost                        19773 non-null  float64       \n",
            " 12  product_first_sold_date              19773 non-null  float64       \n",
            " 13  first_name                           19968 non-null  object        \n",
            " 14  last_name                            19326 non-null  object        \n",
            " 15  gender                               19968 non-null  object        \n",
            " 16  past_3_years_bike_related_purchases  19968 non-null  int64         \n",
            " 17  DOB                                  19522 non-null  datetime64[ns]\n",
            " 18  job_title                            17589 non-null  object        \n",
            " 19  job_industry_category                16746 non-null  object        \n",
            " 20  wealth_segment                       19968 non-null  object        \n",
            " 21  deceased_indicator                   19968 non-null  object        \n",
            " 22  default                              18517 non-null  object        \n",
            " 23  owns_car                             19968 non-null  object        \n",
            " 24  tenure                               19522 non-null  float64       \n",
            " 25  address                              19968 non-null  object        \n",
            " 26  postcode                             19968 non-null  int64         \n",
            " 27  state                                19968 non-null  object        \n",
            " 28  country                              19968 non-null  object        \n",
            " 29  property_valuation                   19968 non-null  int64         \n",
            "dtypes: datetime64[ns](2), float64(5), int64(6), object(17)\n",
            "memory usage: 4.7+ MB\n"
          ]
        }
      ]
    },
    {
      "cell_type": "code",
      "source": [
        "# Count the number of duplicate rows\n",
        "duplicates = transactions_df.duplicated().sum()\n",
        "# Showing\n",
        "print(f'There are {duplicates} duplicate rows in transactions_df')"
      ],
      "metadata": {
        "colab": {
          "base_uri": "https://localhost:8080/"
        },
        "id": "8XlDWoIBuCdr",
        "outputId": "5c0c6873-686b-44a2-8ffb-36e82401efc0"
      },
      "execution_count": null,
      "outputs": [
        {
          "output_type": "stream",
          "name": "stdout",
          "text": [
            "There are 0 duplicate rows in transactions_df\n"
          ]
        }
      ]
    },
    {
      "cell_type": "code",
      "source": [
        "# We remove the hidden columns\n",
        "merged_df = merged_df.drop([\"first_name\",\"last_name\",\"default\"], axis=1)"
      ],
      "metadata": {
        "id": "h-qEqqQFv4NV"
      },
      "execution_count": null,
      "outputs": []
    },
    {
      "cell_type": "code",
      "source": [
        "merged_df['job_title'] = merged_df['job_title'].fillna('Other')\n",
        "merged_df['job_industry_category'] = merged_df['job_industry_category'].fillna('Other')"
      ],
      "metadata": {
        "id": "EfjnMvosurvU"
      },
      "execution_count": null,
      "outputs": []
    },
    {
      "cell_type": "code",
      "source": [],
      "metadata": {
        "id": "f0hiHRQrv32L"
      },
      "execution_count": null,
      "outputs": []
    },
    {
      "cell_type": "code",
      "source": [
        "merged_df[\"online_order\"].value_counts()"
      ],
      "metadata": {
        "colab": {
          "base_uri": "https://localhost:8080/"
        },
        "id": "5bDkLwkYvOWF",
        "outputId": "0312f786-7a86-4e1e-b631-5d3c8d1b2f59"
      },
      "execution_count": null,
      "outputs": [
        {
          "output_type": "execute_result",
          "data": {
            "text/plain": [
              "1.0    9818\n",
              "0.0    9791\n",
              "Name: online_order, dtype: int64"
            ]
          },
          "metadata": {},
          "execution_count": 8
        }
      ]
    },
    {
      "cell_type": "code",
      "source": [
        "merged_df = merged_df.dropna()"
      ],
      "metadata": {
        "id": "G_9Lo08pvXI3"
      },
      "execution_count": null,
      "outputs": []
    },
    {
      "cell_type": "code",
      "source": [
        "merged_df.info()"
      ],
      "metadata": {
        "colab": {
          "base_uri": "https://localhost:8080/"
        },
        "id": "eXfmHchVwmOR",
        "outputId": "2c3933d1-089d-4ea0-f62c-0a610f72fdf2"
      },
      "execution_count": null,
      "outputs": [
        {
          "output_type": "stream",
          "name": "stdout",
          "text": [
            "<class 'pandas.core.frame.DataFrame'>\n",
            "Int64Index: 18986 entries, 0 to 19967\n",
            "Data columns (total 27 columns):\n",
            " #   Column                               Non-Null Count  Dtype         \n",
            "---  ------                               --------------  -----         \n",
            " 0   transaction_id                       18986 non-null  int64         \n",
            " 1   product_id                           18986 non-null  int64         \n",
            " 2   customer_id                          18986 non-null  int64         \n",
            " 3   transaction_date                     18986 non-null  datetime64[ns]\n",
            " 4   online_order                         18986 non-null  float64       \n",
            " 5   order_status                         18986 non-null  object        \n",
            " 6   brand                                18986 non-null  object        \n",
            " 7   product_line                         18986 non-null  object        \n",
            " 8   product_class                        18986 non-null  object        \n",
            " 9   product_size                         18986 non-null  object        \n",
            " 10  list_price                           18986 non-null  float64       \n",
            " 11  standard_cost                        18986 non-null  float64       \n",
            " 12  product_first_sold_date              18986 non-null  float64       \n",
            " 13  gender                               18986 non-null  object        \n",
            " 14  past_3_years_bike_related_purchases  18986 non-null  int64         \n",
            " 15  DOB                                  18986 non-null  datetime64[ns]\n",
            " 16  job_title                            18986 non-null  object        \n",
            " 17  job_industry_category                18986 non-null  object        \n",
            " 18  wealth_segment                       18986 non-null  object        \n",
            " 19  deceased_indicator                   18986 non-null  object        \n",
            " 20  owns_car                             18986 non-null  object        \n",
            " 21  tenure                               18986 non-null  float64       \n",
            " 22  address                              18986 non-null  object        \n",
            " 23  postcode                             18986 non-null  int64         \n",
            " 24  state                                18986 non-null  object        \n",
            " 25  country                              18986 non-null  object        \n",
            " 26  property_valuation                   18986 non-null  int64         \n",
            "dtypes: datetime64[ns](2), float64(5), int64(6), object(14)\n",
            "memory usage: 4.1+ MB\n"
          ]
        }
      ]
    },
    {
      "cell_type": "code",
      "source": [
        "merged_df[\"state\"].value_counts()"
      ],
      "metadata": {
        "colab": {
          "base_uri": "https://localhost:8080/"
        },
        "id": "ltLohfgewoPl",
        "outputId": "3b300489-971d-4b29-a3b0-3d31a3a9a47d"
      },
      "execution_count": null,
      "outputs": [
        {
          "output_type": "execute_result",
          "data": {
            "text/plain": [
              "NSW                9671\n",
              "VIC                4330\n",
              "QLD                4065\n",
              "New South Wales     462\n",
              "Victoria            458\n",
              "Name: state, dtype: int64"
            ]
          },
          "metadata": {},
          "execution_count": 11
        }
      ]
    },
    {
      "cell_type": "code",
      "source": [
        "# Delete the rows where the column 'deceased_indicator' is equal to 'Y'.\n",
        "merged_df = merged_df[merged_df['deceased_indicator'] != 'Y']"
      ],
      "metadata": {
        "id": "aI7p8VA_yljl"
      },
      "execution_count": null,
      "outputs": []
    },
    {
      "cell_type": "code",
      "source": [
        "merged_df = merged_df[merged_df[\"customer_id\"] != 34]"
      ],
      "metadata": {
        "id": "7C9JFYoka2eq"
      },
      "execution_count": null,
      "outputs": []
    },
    {
      "cell_type": "code",
      "source": [
        "# We will create a mapping dictionary to standardize the values of the \"gender\" column.\n",
        "gender_map = {'F': 'Female', 'Femal': 'Female', 'M': 'Male'}\n",
        "\n",
        "# We apply the mapping to the column \"gender\".\n",
        "merged_df['gender'] = merged_df['gender'].replace(gender_map)"
      ],
      "metadata": {
        "id": "u64PH-khwtUe"
      },
      "execution_count": null,
      "outputs": []
    },
    {
      "cell_type": "code",
      "source": [
        "# Replace \"Argiculture\" with \"Agriculture\" in the column \"job_industry_category\".\n",
        "merged_df['job_industry_category'] = merged_df['job_industry_category'].replace('Argiculture', 'Agriculture')"
      ],
      "metadata": {
        "id": "WHlRkPWyxX91"
      },
      "execution_count": null,
      "outputs": []
    },
    {
      "cell_type": "code",
      "source": [
        "# Replace the values in the column 'state'.\n",
        "merged_df['state'] = merged_df['state'].replace({'VIC': 'Victoria', 'NSW': 'New South Wales', 'QLD': 'Queensland'})\n",
        "print(merged_df['state'].value_counts())"
      ],
      "metadata": {
        "colab": {
          "base_uri": "https://localhost:8080/"
        },
        "id": "L8Yqsqffx9w1",
        "outputId": "7d6f6c00-26a8-470c-c7ea-6f2f4e599c3e"
      },
      "execution_count": null,
      "outputs": [
        {
          "output_type": "stream",
          "name": "stdout",
          "text": [
            "New South Wales    10125\n",
            "Victoria            4788\n",
            "Queensland          4057\n",
            "Name: state, dtype: int64\n"
          ]
        }
      ]
    },
    {
      "cell_type": "code",
      "source": [
        "# We capitalize the columns 'product_class' and 'product_size'.\n",
        "merged_df['product_class'] = merged_df['product_class'].str.capitalize()\n",
        "merged_df['product_size'] = merged_df['product_size'].str.capitalize()"
      ],
      "metadata": {
        "id": "gYWQsOHDziz5"
      },
      "execution_count": null,
      "outputs": []
    },
    {
      "cell_type": "code",
      "source": [
        "merged_df.info()"
      ],
      "metadata": {
        "colab": {
          "base_uri": "https://localhost:8080/"
        },
        "id": "kKBYcFOtbEMg",
        "outputId": "54b89e15-d564-4440-b83a-2f96ca76c5d0"
      },
      "execution_count": null,
      "outputs": [
        {
          "output_type": "stream",
          "name": "stdout",
          "text": [
            "<class 'pandas.core.frame.DataFrame'>\n",
            "Int64Index: 18970 entries, 0 to 19967\n",
            "Data columns (total 27 columns):\n",
            " #   Column                               Non-Null Count  Dtype         \n",
            "---  ------                               --------------  -----         \n",
            " 0   transaction_id                       18970 non-null  int64         \n",
            " 1   product_id                           18970 non-null  int64         \n",
            " 2   customer_id                          18970 non-null  int64         \n",
            " 3   transaction_date                     18970 non-null  datetime64[ns]\n",
            " 4   online_order                         18970 non-null  float64       \n",
            " 5   order_status                         18970 non-null  object        \n",
            " 6   brand                                18970 non-null  object        \n",
            " 7   product_line                         18970 non-null  object        \n",
            " 8   product_class                        18970 non-null  object        \n",
            " 9   product_size                         18970 non-null  object        \n",
            " 10  list_price                           18970 non-null  float64       \n",
            " 11  standard_cost                        18970 non-null  float64       \n",
            " 12  product_first_sold_date              18970 non-null  float64       \n",
            " 13  gender                               18970 non-null  object        \n",
            " 14  past_3_years_bike_related_purchases  18970 non-null  int64         \n",
            " 15  DOB                                  18970 non-null  datetime64[ns]\n",
            " 16  job_title                            18970 non-null  object        \n",
            " 17  job_industry_category                18970 non-null  object        \n",
            " 18  wealth_segment                       18970 non-null  object        \n",
            " 19  deceased_indicator                   18970 non-null  object        \n",
            " 20  owns_car                             18970 non-null  object        \n",
            " 21  tenure                               18970 non-null  float64       \n",
            " 22  address                              18970 non-null  object        \n",
            " 23  postcode                             18970 non-null  int64         \n",
            " 24  state                                18970 non-null  object        \n",
            " 25  country                              18970 non-null  object        \n",
            " 26  property_valuation                   18970 non-null  int64         \n",
            "dtypes: datetime64[ns](2), float64(5), int64(6), object(14)\n",
            "memory usage: 4.1+ MB\n"
          ]
        }
      ]
    },
    {
      "cell_type": "code",
      "source": [
        "merged_df.to_excel(\"data_clean.xlsx\",index=False)"
      ],
      "metadata": {
        "id": "CQhb9qSX00Kv"
      },
      "execution_count": null,
      "outputs": []
    },
    {
      "cell_type": "code",
      "source": [],
      "metadata": {
        "id": "b7vFv0XTa-ty"
      },
      "execution_count": null,
      "outputs": []
    }
  ]
}